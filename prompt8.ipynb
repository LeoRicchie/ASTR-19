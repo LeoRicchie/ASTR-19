{
 "cells": [
  {
   "cell_type": "code",
   "execution_count": null,
   "id": "718bb9d1-180d-464d-8fe1-90e18916c2f6",
   "metadata": {},
   "outputs": [],
   "source": [
    "import numpy as np\n",
    "import matplotlib.pyplot as plt"
   ]
  },
  {
   "cell_type": "code",
   "execution_count": null,
   "id": "92444d59-f8ea-4571-af59-cf0bdb036d6f",
   "metadata": {},
   "outputs": [],
   "source": [
    "def my_sin(x):\n",
    "  return np.sin(x)\n",
    "def my_cos(x):\n",
    "  return np.cos(x)\n",
    "x = np.linspace(start=0, stop=1, num=100)\n"
   ]
  },
  {
   "cell_type": "code",
   "execution_count": null,
   "id": "c9392baa-aeed-432e-91c8-0ce491b27528",
   "metadata": {},
   "outputs": [],
   "source": [
    "fig, axes = plt.subplots(1, 2)\n",
    "axes[0].plot(x, my_sin(x))\n",
    "axes[1].plot(x, my_cos(x))"
   ]
  }
 ],
 "metadata": {
  "kernelspec": {
   "display_name": "Python 3 (ipykernel)",
   "language": "python",
   "name": "python3"
  },
  "language_info": {
   "codemirror_mode": {
    "name": "ipython",
    "version": 3
   },
   "file_extension": ".py",
   "mimetype": "text/x-python",
   "name": "python",
   "nbconvert_exporter": "python",
   "pygments_lexer": "ipython3",
   "version": "3.12.2"
  }
 },
 "nbformat": 4,
 "nbformat_minor": 5
}
