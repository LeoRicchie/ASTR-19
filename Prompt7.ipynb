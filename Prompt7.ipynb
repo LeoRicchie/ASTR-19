{
 "cells": [
  {
   "cell_type": "code",
   "execution_count": null,
   "id": "956d06e5-31a4-42ee-951f-8ae7fe89ae45",
   "metadata": {},
   "outputs": [],
   "source": [
    "import matplotlib.pyplot as plt\n",
    "import numpy as np"
   ]
  },
  {
   "cell_type": "code",
   "execution_count": null,
   "id": "30580cc2-c4c9-4a17-9dd0-9a884c20d72a",
   "metadata": {},
   "outputs": [],
   "source": [
    "x = np.linspace(start=0, stop=1, num=100)"
   ]
  },
  {
   "cell_type": "code",
   "execution_count": null,
   "id": "71ff47fc-b2d4-4253-a997-255ddd8502c6",
   "metadata": {},
   "outputs": [],
   "source": [
    "def my_exp(x):\n",
    "  return np.e**x"
   ]
  },
  {
   "cell_type": "code",
   "execution_count": null,
   "id": "0ab5ac2c-b285-4bb9-b895-e740642f37e7",
   "metadata": {},
   "outputs": [],
   "source": [
    "y = my_exp(x)\n",
    "plt.plot(x,y)\n",
    "plt.xlabel(\"Time milliseconds\")\n",
    "plt.ylabel(\"awesomeness\")\n",
    "plt.savefig(\"prompt7.pdf\", dpi=300)"
   ]
  }
 ],
 "metadata": {
  "kernelspec": {
   "display_name": "Python 3 (ipykernel)",
   "language": "python",
   "name": "python3"
  },
  "language_info": {
   "codemirror_mode": {
    "name": "ipython",
    "version": 3
   },
   "file_extension": ".py",
   "mimetype": "text/x-python",
   "name": "python",
   "nbconvert_exporter": "python",
   "pygments_lexer": "ipython3",
   "version": "3.12.2"
  }
 },
 "nbformat": 4,
 "nbformat_minor": 5
}
